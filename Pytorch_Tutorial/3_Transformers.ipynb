{
 "cells": [
  {
   "cell_type": "markdown",
   "metadata": {},
   "source": [
    "## TRANSFORMS"
   ]
  },
  {
   "cell_type": "markdown",
   "metadata": {},
   "source": [
    "데이터는 항상 머신 러닝 알고리즘의 훈련에 알맞게 가공된 형태로 제공되지는 않기 때문에 훈련에 적합하게 만들 필요가 있다"
   ]
  },
  {
   "cell_type": "code",
   "execution_count": 1,
   "metadata": {},
   "outputs": [],
   "source": [
    "import torch\n",
    "from torchvision import datasets\n",
    "from torchvision.transforms import ToTensor, Lambda\n",
    "\n",
    "ds = datasets.FashionMNIST(\n",
    "    root=\"data\",\n",
    "    train=True,\n",
    "    download=True,\n",
    "    transform=ToTensor(),\n",
    "    target_transform=Lambda(lambda y: torch.zeros(10, dtype=torch.float).scatter_(0, torch.tensor(y), value=1))\n",
    ")"
   ]
  },
  {
   "cell_type": "markdown",
   "metadata": {},
   "source": [
    "## ToTensor()"
   ]
  },
  {
   "cell_type": "markdown",
   "metadata": {},
   "source": [
    "- ToTensor는 이미지를 텐서로 변환하여 딥 러닝 모델에 입력으로 사용할 수 있도록 한다\n",
    "- PIL 이미지나 NumPy ndarray 형태의 이미지를 텐서로 변환하면, 이미지의 모양(shape)은 유지되면서도 이미지 데이터가 텐서로 표현된다\n",
    "- ToTensor는 이미지의 픽셀 강도 값을 [0., 1.] 범위로 스케일링한다\n",
    "    - 일반적으로 이미지의 픽셀 값은 [0, 255] 범위이다\n"
   ]
  },
  {
   "cell_type": "markdown",
   "metadata": {},
   "source": [
    "## Lambda Transforms"
   ]
  },
  {
   "cell_type": "markdown",
   "metadata": {},
   "source": [
    "- Lambda Transform은 사용자가 정의한 람다 함수를 적용한다\n",
    "- 아래의 예시로 원핫 인코딩을 하기 위한 람다 함수를 생성하였다"
   ]
  },
  {
   "cell_type": "code",
   "execution_count": 2,
   "metadata": {},
   "outputs": [],
   "source": [
    "target_transform = Lambda(lambda y: torch.zeros(\n",
    "    10, dtype=torch.float).scatter_(dim=0, index=torch.tensor(y), value=1))\n",
    "\n",
    "# torch.zeros(10, dtype=torch.float) : 크기가 10인 0행렬을 생성\n",
    "# scatter_(dim=0, index=torch.tensor(y) : dim은 값을 할당할 차원, index는 값을 할당할 위치를 지정하는 인덱스 텐서(위의 경우에는 원핫 인코딩 중 1의 값을 지정할 인덱스를 의미)\n",
    "# value는 원핫 인코딩이므로 1값을 입력해야 한다"
   ]
  },
  {
   "cell_type": "code",
   "execution_count": null,
   "metadata": {},
   "outputs": [],
   "source": []
  }
 ],
 "metadata": {
  "kernelspec": {
   "display_name": "daconenv",
   "language": "python",
   "name": "python3"
  },
  "language_info": {
   "codemirror_mode": {
    "name": "ipython",
    "version": 3
   },
   "file_extension": ".py",
   "mimetype": "text/x-python",
   "name": "python",
   "nbconvert_exporter": "python",
   "pygments_lexer": "ipython3",
   "version": "3.10.11"
  },
  "orig_nbformat": 4
 },
 "nbformat": 4,
 "nbformat_minor": 2
}

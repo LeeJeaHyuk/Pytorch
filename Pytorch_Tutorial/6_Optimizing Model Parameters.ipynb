{
 "cells": [
  {
   "cell_type": "markdown",
   "metadata": {},
   "source": [
    "## OPTIMIZING MODEL PARAMETERS"
   ]
  },
  {
   "cell_type": "markdown",
   "metadata": {},
   "source": [
    "모델과 데이터가 준비되면, 모델을 훈련하고 검증하며 데이터에 대한 파라미터를 최적화하여 모델을 테스트한다 훈련은 반복적인 과정으로, 각 반복마다 모델은 출력을 예측하고 예측의 오차를 계산하며, 오차에 대한 파라미터의 미분 값을 수집하고 경사 하강법을 사용하여 파라미터를 최적화한다"
   ]
  },
  {
   "cell_type": "markdown",
   "metadata": {},
   "source": [
    "## Prerequisite Code"
   ]
  },
  {
   "cell_type": "code",
   "execution_count": 1,
   "metadata": {},
   "outputs": [],
   "source": [
    "import torch\n",
    "from torch import nn\n",
    "from torch.utils.data import DataLoader\n",
    "from torchvision import datasets\n",
    "from torchvision.transforms import ToTensor\n",
    "\n",
    "training_data = datasets.FashionMNIST(\n",
    "    root=\"data\",\n",
    "    train=True,\n",
    "    download=True,\n",
    "    transform=ToTensor()\n",
    ")\n",
    "\n",
    "test_data = datasets.FashionMNIST(\n",
    "    root=\"data\",\n",
    "    train=False,\n",
    "    download=True,\n",
    "    transform=ToTensor()\n",
    ")\n",
    "\n",
    "train_dataloader = DataLoader(training_data, batch_size=64)\n",
    "test_dataloader = DataLoader(test_data, batch_size=64)\n",
    "\n",
    "class NeuralNetwork(nn.Module):\n",
    "    def __init__(self):\n",
    "        super().__init__()\n",
    "        self.flatten = nn.Flatten()\n",
    "        self.linear_relu_stack = nn.Sequential(\n",
    "            nn.Linear(28*28, 512),\n",
    "            nn.ReLU(),\n",
    "            nn.Linear(512, 512),\n",
    "            nn.ReLU(),\n",
    "            nn.Linear(512, 10),\n",
    "        )\n",
    "\n",
    "    def forward(self, x):\n",
    "        x = self.flatten(x)\n",
    "        logits = self.linear_relu_stack(x)\n",
    "        return logits\n",
    "\n",
    "model = NeuralNetwork()"
   ]
  },
  {
   "cell_type": "markdown",
   "metadata": {},
   "source": [
    "## Hyperparameters"
   ]
  },
  {
   "cell_type": "markdown",
   "metadata": {},
   "source": [
    "- Number of Epochs - 데이터셋을 여러 번 반복해서 모델을 훈련할 횟수\n",
    "\n",
    "- Batch Size - 한 번의 모델 업데이트를 수행하기 위해 네트워크를 통과하는 데이터 샘플의 수. 훈련 데이터셋이 매우 큰 경우, 전체 데이터셋을 한 번에 모델에 통과시키는 것은 계산적으로 부담일 수 있는데 이런 경우에 데이터를 작은 배치로 나누어 모델을 효율적으로 훈련할 수 있다\n",
    "\n",
    "- Learning Rate - 학습률은 모델의 매개변수를 업데이트하는 속도를 조절하는 값으로, 작으면 안정적이지만 느리게 학습하고, 크면 빠르게 학습하지만 불안정할 수 있다"
   ]
  },
  {
   "cell_type": "code",
   "execution_count": 2,
   "metadata": {},
   "outputs": [],
   "source": [
    "learning_rate = 1e-3\n",
    "batch_size = 64\n",
    "epochs = 5"
   ]
  },
  {
   "cell_type": "markdown",
   "metadata": {},
   "source": [
    "## Optimization Loop"
   ]
  },
  {
   "cell_type": "markdown",
   "metadata": {},
   "source": [
    "하이퍼파라미터를 설정한 후, 최적화 루프를 사용하여 모델을 훈련하고 최적화할 수 있다 \n",
    "- The Train Loop : 훈련 데이터셋을 반복하면서 최적의 파라미터로 수렴하는것이 목표\n",
    "- The Validation/Test Loop : 테스트 데이터셋을 반복하여 모델의 성능이 개선되고 있는지 확인한다"
   ]
  },
  {
   "cell_type": "markdown",
   "metadata": {},
   "source": [
    "## Loss Function\n"
   ]
  },
  {
   "cell_type": "markdown",
   "metadata": {},
   "source": [
    "초기에 훈련되지 않은 네트워크는 훈련 데이터를 제대로 처리하지 못할 수 있으므로, 손실 함수를 통해 얻은 결과와 목표 값의 불일치 정도를 측정하고, 훈련 과정에서 이 손실을 최소화한다. 이를 위해 주어진 데이터 샘플의 입력으로 예측을 수행하고, 이를 실제 데이터 레이블 값과 비교하여 손실을 계산한다"
   ]
  },
  {
   "cell_type": "code",
   "execution_count": 3,
   "metadata": {},
   "outputs": [],
   "source": [
    "loss_fn = nn.CrossEntropyLoss()"
   ]
  },
  {
   "cell_type": "markdown",
   "metadata": {},
   "source": [
    "## Optimizer"
   ]
  },
  {
   "cell_type": "markdown",
   "metadata": {},
   "source": [
    "- 최적화는 모델의 매개변수를 조정하여 각 훈련 단계에서 모델 오류를 줄이는 과정이다\n",
    "- 이 과정은 최적화 알고리즘을 통해 이루어지며, 예시로는 확률적 경사 하강법(SGD)을 사용한다\n",
    "- 모든 최적화 절차(logic)는 optimizer 객체에 캡슐화(encapsulate)됩니다."
   ]
  },
  {
   "cell_type": "code",
   "execution_count": 4,
   "metadata": {},
   "outputs": [],
   "source": [
    "optimizer = torch.optim.SGD(model.parameters(), lr=learning_rate)"
   ]
  },
  {
   "cell_type": "markdown",
   "metadata": {},
   "source": [
    "학습 단계(loop)에서 최적화는 세 개의 단계로 이루어진다\n",
    "- optimizer.zero_grad()를 호출하여 델 매개변수의 그래디언트를 재설정\n",
    "    - 그래디언트는 기본적으로 누적되므로, 중복 계산을 방지하기 위해 각 반복마다 명시적으로 그래디언트를 0으로 초기화합니다.\n",
    "\n",
    "- loss.backwards()를 호출하여 예측 손실(prediction loss)을 역전파한다\n",
    "    - PyTorch는 손실에 대한 각 매개변수의 그래디언트를 계산하여 저장한다\n",
    "    - 이 역전파 단계를 통해 각 매개변수가 손실에 얼마나 기여하는지 알 수 있다\n",
    "\n",
    "- 그래디언트를 계산한 뒤에는 optimizer.step()을 호출하여 역전파 단계에서 수집한 그라디언트를 사용하여 매개변수를 조정한다\n",
    "    - 이 단계에서 최적화기는 그라디언트의 정보를 활용하여 매개변수를 업데이트하고, 모델의 성능을 향상시키기 위해 매개변수 값을 조정한다"
   ]
  },
  {
   "cell_type": "markdown",
   "metadata": {},
   "source": [
    "## Full Implementation"
   ]
  },
  {
   "cell_type": "code",
   "execution_count": 5,
   "metadata": {},
   "outputs": [],
   "source": [
    "def train_loop(dataloader, model, loss_fn, optimizer):\n",
    "    size = len(dataloader.dataset)\n",
    "    # Set the model to training mode - important for batch normalization and dropout layers\n",
    "    # Unnecessary in this situation but added for best practices\n",
    "    model.train()\n",
    "    for batch, (X, y) in enumerate(dataloader):\n",
    "        # Compute prediction and loss\n",
    "        pred = model(X)\n",
    "        loss = loss_fn(pred, y)\n",
    "\n",
    "        # Backpropagation\n",
    "        loss.backward()\n",
    "        optimizer.step()\n",
    "        optimizer.zero_grad()\n",
    "\n",
    "        if batch % 100 == 0:\n",
    "            loss, current = loss.item(), (batch + 1) * len(X)\n",
    "            print(f\"loss: {loss:>7f}  [{current:>5d}/{size:>5d}]\")\n",
    "\n",
    "\n",
    "def test_loop(dataloader, model, loss_fn):\n",
    "    # Set the model to evaluation mode - important for batch normalization and dropout layers\n",
    "    # Unnecessary in this situation but added for best practices\n",
    "    model.eval()\n",
    "    size = len(dataloader.dataset)\n",
    "    num_batches = len(dataloader)\n",
    "    test_loss, correct = 0, 0\n",
    "\n",
    "    # Evaluating the model with torch.no_grad() ensures that no gradients are computed during test mode\n",
    "    # also serves to reduce unnecessary gradient computations and memory usage for tensors with requires_grad=True\n",
    "    with torch.no_grad():\n",
    "        for X, y in dataloader:\n",
    "            pred = model(X)\n",
    "            test_loss += loss_fn(pred, y).item()\n",
    "            correct += (pred.argmax(1) == y).type(torch.float).sum().item()\n",
    "\n",
    "    test_loss /= num_batches\n",
    "    correct /= size\n",
    "    print(f\"Test Error: \\n Accuracy: {(100*correct):>0.1f}%, Avg loss: {test_loss:>8f} \\n\")"
   ]
  },
  {
   "cell_type": "markdown",
   "metadata": {},
   "source": [
    "- train_loop\n",
    "    - 이 함수는 주어진 데이터로더(dataloader), 모델(model), 손실 함수(loss_fn), 최적화기(optimizer)를 사용하여 모델을 훈련하는 역할을 한다\n",
    "    - 데이터셋의 크기를 가져온 후, 모델을 훈련 모드로 설정\n",
    "    - 데이터로더에서 미니배치(batch)와 해당 미니배치의 입력(X)과 타겟(y)을 반복하여 가져온다\n",
    "    - 모델을 사용해 입력 데이터를 예측(pred)하고, 예측과 실제 타겟 간의 손실(loss)을 계산한다\n",
    "    - 손실에 대한 역전파를 수행하여 그래디언트를 계산하고, optimizer.step()으로 매개변수를 업데이트하고 optimizer.zero_grad()로 그래디언트를 초기화한다\n",
    "    - 매 100번째 미니배치마다 현재 손실과 진행 상황을 출력\n",
    "\n",
    "- test_loop\n",
    "    - 이 함수는 주어진 데이터로더(dataloader), 모델(model), 손실 함수(loss_fn)를 사용하여 모델의 성능을 평가하는 역할을 합니다.\n",
    "    - 모델을 평가 모드로 설정\n",
    "    - 데이터셋의 크기와 미니배치의 수를 가져온 후, test_loss와 correct 변수를 초기화\n",
    "    - torch.no_grad() 블록 안에서, 데이터로더에서 미니배치를 가져오며 모델을 사용해 입력 데이터를 예측\n",
    "    - 예측과 실제 타겟 간의 손실을 누적하여 test_loss에 추가하고, 정확하게 예측한 개수를 세어 correct에 추가\n",
    "    - 마지막으로 test_loss와 정확도를 계산하여 출력"
   ]
  },
  {
   "cell_type": "code",
   "execution_count": 6,
   "metadata": {},
   "outputs": [
    {
     "name": "stdout",
     "output_type": "stream",
     "text": [
      "Epoch 1\n",
      "-------------------------------\n",
      "loss: 2.301374  [   64/60000]\n",
      "loss: 2.292330  [ 6464/60000]\n",
      "loss: 2.272464  [12864/60000]\n",
      "loss: 2.259515  [19264/60000]\n",
      "loss: 2.256851  [25664/60000]\n",
      "loss: 2.208028  [32064/60000]\n",
      "loss: 2.221223  [38464/60000]\n",
      "loss: 2.186694  [44864/60000]\n",
      "loss: 2.179812  [51264/60000]\n",
      "loss: 2.141227  [57664/60000]\n",
      "Test Error: \n",
      " Accuracy: 44.8%, Avg loss: 2.142664 \n",
      "\n",
      "Epoch 2\n",
      "-------------------------------\n",
      "loss: 2.155867  [   64/60000]\n",
      "loss: 2.142369  [ 6464/60000]\n",
      "loss: 2.088838  [12864/60000]\n",
      "loss: 2.098388  [19264/60000]\n",
      "loss: 2.062600  [25664/60000]\n",
      "loss: 1.982340  [32064/60000]\n",
      "loss: 2.009069  [38464/60000]\n",
      "loss: 1.930155  [44864/60000]\n",
      "loss: 1.932726  [51264/60000]\n",
      "loss: 1.849834  [57664/60000]\n",
      "Test Error: \n",
      " Accuracy: 60.8%, Avg loss: 1.860858 \n",
      "\n",
      "Epoch 3\n",
      "-------------------------------\n",
      "loss: 1.898303  [   64/60000]\n",
      "loss: 1.859876  [ 6464/60000]\n",
      "loss: 1.749516  [12864/60000]\n",
      "loss: 1.785589  [19264/60000]\n",
      "loss: 1.689645  [25664/60000]\n",
      "loss: 1.626636  [32064/60000]\n",
      "loss: 1.646838  [38464/60000]\n",
      "loss: 1.552238  [44864/60000]\n",
      "loss: 1.577258  [51264/60000]\n",
      "loss: 1.467081  [57664/60000]\n",
      "Test Error: \n",
      " Accuracy: 61.9%, Avg loss: 1.493449 \n",
      "\n",
      "Epoch 4\n",
      "-------------------------------\n",
      "loss: 1.567126  [   64/60000]\n",
      "loss: 1.522177  [ 6464/60000]\n",
      "loss: 1.380422  [12864/60000]\n",
      "loss: 1.451094  [19264/60000]\n",
      "loss: 1.343872  [25664/60000]\n",
      "loss: 1.331620  [32064/60000]\n",
      "loss: 1.348960  [38464/60000]\n",
      "loss: 1.274258  [44864/60000]\n",
      "loss: 1.309630  [51264/60000]\n",
      "loss: 1.214541  [57664/60000]\n",
      "Test Error: \n",
      " Accuracy: 63.2%, Avg loss: 1.239059 \n",
      "\n",
      "Epoch 5\n",
      "-------------------------------\n",
      "loss: 1.321556  [   64/60000]\n",
      "loss: 1.293419  [ 6464/60000]\n",
      "loss: 1.133609  [12864/60000]\n",
      "loss: 1.241493  [19264/60000]\n",
      "loss: 1.124334  [25664/60000]\n",
      "loss: 1.142904  [32064/60000]\n",
      "loss: 1.170100  [38464/60000]\n",
      "loss: 1.103472  [44864/60000]\n",
      "loss: 1.141418  [51264/60000]\n",
      "loss: 1.067183  [57664/60000]\n",
      "Test Error: \n",
      " Accuracy: 64.7%, Avg loss: 1.083240 \n",
      "\n",
      "Epoch 6\n",
      "-------------------------------\n",
      "loss: 1.158680  [   64/60000]\n",
      "loss: 1.150402  [ 6464/60000]\n",
      "loss: 0.973916  [12864/60000]\n",
      "loss: 1.111077  [19264/60000]\n",
      "loss: 0.990604  [25664/60000]\n",
      "loss: 1.016191  [32064/60000]\n",
      "loss: 1.058810  [38464/60000]\n",
      "loss: 0.994059  [44864/60000]\n",
      "loss: 1.030501  [51264/60000]\n",
      "loss: 0.974289  [57664/60000]\n",
      "Test Error: \n",
      " Accuracy: 66.3%, Avg loss: 0.981897 \n",
      "\n",
      "Epoch 7\n",
      "-------------------------------\n",
      "loss: 1.044930  [   64/60000]\n",
      "loss: 1.056248  [ 6464/60000]\n",
      "loss: 0.863513  [12864/60000]\n",
      "loss: 1.022682  [19264/60000]\n",
      "loss: 0.904356  [25664/60000]\n",
      "loss: 0.925321  [32064/60000]\n",
      "loss: 0.984387  [38464/60000]\n",
      "loss: 0.921035  [44864/60000]\n",
      "loss: 0.952314  [51264/60000]\n",
      "loss: 0.910999  [57664/60000]\n",
      "Test Error: \n",
      " Accuracy: 67.5%, Avg loss: 0.911283 \n",
      "\n",
      "Epoch 8\n",
      "-------------------------------\n",
      "loss: 0.959692  [   64/60000]\n",
      "loss: 0.989037  [ 6464/60000]\n",
      "loss: 0.783189  [12864/60000]\n",
      "loss: 0.958344  [19264/60000]\n",
      "loss: 0.844645  [25664/60000]\n",
      "loss: 0.857193  [32064/60000]\n",
      "loss: 0.930350  [38464/60000]\n",
      "loss: 0.870921  [44864/60000]\n",
      "loss: 0.895098  [51264/60000]\n",
      "loss: 0.864264  [57664/60000]\n",
      "Test Error: \n",
      " Accuracy: 68.8%, Avg loss: 0.859419 \n",
      "\n",
      "Epoch 9\n",
      "-------------------------------\n",
      "loss: 0.892865  [   64/60000]\n",
      "loss: 0.937643  [ 6464/60000]\n",
      "loss: 0.721842  [12864/60000]\n",
      "loss: 0.909093  [19264/60000]\n",
      "loss: 0.800793  [25664/60000]\n",
      "loss: 0.804718  [32064/60000]\n",
      "loss: 0.888785  [38464/60000]\n",
      "loss: 0.835198  [44864/60000]\n",
      "loss: 0.851755  [51264/60000]\n",
      "loss: 0.827794  [57664/60000]\n",
      "Test Error: \n",
      " Accuracy: 70.0%, Avg loss: 0.819412 \n",
      "\n",
      "Epoch 10\n",
      "-------------------------------\n",
      "loss: 0.838481  [   64/60000]\n",
      "loss: 0.896055  [ 6464/60000]\n",
      "loss: 0.673201  [12864/60000]\n",
      "loss: 0.870122  [19264/60000]\n",
      "loss: 0.766936  [25664/60000]\n",
      "loss: 0.763898  [32064/60000]\n",
      "loss: 0.854583  [38464/60000]\n",
      "loss: 0.808472  [44864/60000]\n",
      "loss: 0.817812  [51264/60000]\n",
      "loss: 0.797975  [57664/60000]\n",
      "Test Error: \n",
      " Accuracy: 71.4%, Avg loss: 0.787232 \n",
      "\n",
      "Done!\n"
     ]
    }
   ],
   "source": [
    "loss_fn = nn.CrossEntropyLoss()\n",
    "optimizer = torch.optim.SGD(model.parameters(), lr=learning_rate)\n",
    "\n",
    "epochs = 10\n",
    "for t in range(epochs):\n",
    "    print(f\"Epoch {t+1}\\n-------------------------------\")\n",
    "    train_loop(train_dataloader, model, loss_fn, optimizer)\n",
    "    test_loop(test_dataloader, model, loss_fn)\n",
    "print(\"Done!\")"
   ]
  },
  {
   "cell_type": "markdown",
   "metadata": {},
   "source": [
    "## reference"
   ]
  },
  {
   "cell_type": "markdown",
   "metadata": {},
   "source": []
  },
  {
   "cell_type": "code",
   "execution_count": null,
   "metadata": {},
   "outputs": [],
   "source": []
  }
 ],
 "metadata": {
  "kernelspec": {
   "display_name": "daconenv",
   "language": "python",
   "name": "python3"
  },
  "language_info": {
   "codemirror_mode": {
    "name": "ipython",
    "version": 3
   },
   "file_extension": ".py",
   "mimetype": "text/x-python",
   "name": "python",
   "nbconvert_exporter": "python",
   "pygments_lexer": "ipython3",
   "version": "3.10.11"
  },
  "orig_nbformat": 4
 },
 "nbformat": 4,
 "nbformat_minor": 2
}
